{
 "cells": [
  {
   "cell_type": "code",
   "execution_count": 1,
   "metadata": {
    "collapsed": true
   },
   "outputs": [],
   "source": [
    "import os\n",
    "os.environ[\"CUDA_DEVICE_ORDER\"]=\"PCI_BUS_ID\" \n",
    "os.environ['CUDA_VISIBLE_DEVICES'] = \"0\""
   ]
  },
  {
   "cell_type": "code",
   "execution_count": 2,
   "metadata": {},
   "outputs": [
    {
     "name": "stderr",
     "output_type": "stream",
     "text": [
      "Using TensorFlow backend.\n"
     ]
    }
   ],
   "source": [
    "import keras\n",
    "\n",
    "from keras.datasets import mnist\n",
    "from keras.utils import to_categorical\n",
    "from keras.layers import Conv2D, MaxPooling2D\n",
    "from keras.layers import Flatten, Dense, Input, Dropout\n",
    "from keras.layers.normalization import BatchNormalization\n",
    "from keras.models import Model\n",
    "\n",
    "from sklearn.model_selection import train_test_split"
   ]
  },
  {
   "cell_type": "code",
   "execution_count": 3,
   "metadata": {
    "collapsed": true
   },
   "outputs": [],
   "source": [
    "batch_size = 128\n",
    "num_classes = 10\n",
    "epochs = 12\n",
    "\n",
    "# input image dimensions\n",
    "img_rows, img_cols = 28, 28\n",
    "\n",
    "input_shape = (img_rows, img_cols, 1)"
   ]
  },
  {
   "cell_type": "code",
   "execution_count": 4,
   "metadata": {
    "collapsed": true
   },
   "outputs": [],
   "source": [
    "(X_train, y_train), (X_test, y_test) = keras.datasets.mnist.load_data()"
   ]
  },
  {
   "cell_type": "code",
   "execution_count": 5,
   "metadata": {},
   "outputs": [],
   "source": [
    "X_train = X_train.reshape(X_train.shape[0], img_rows, img_cols, 1)\n",
    "X_test = X_test.reshape(X_test.shape[0], img_rows, img_cols, 1)\n",
    "\n",
    "X_train = X_train.astype('float32')\n",
    "X_test = X_test.astype('float32')\n",
    "X_train /= 255\n",
    "X_test /= 255\n",
    "\n",
    "y_train = to_categorical(y_train)\n",
    "y_test = to_categorical(y_test)"
   ]
  },
  {
   "cell_type": "code",
   "execution_count": 6,
   "metadata": {
    "collapsed": true
   },
   "outputs": [],
   "source": [
    "X_train, X_val, y_train, y_val = train_test_split(X_train, y_train, test_size=0.1, random_state=42)"
   ]
  },
  {
   "cell_type": "markdown",
   "metadata": {},
   "source": [
    "### build model"
   ]
  },
  {
   "cell_type": "code",
   "execution_count": 7,
   "metadata": {
    "collapsed": true
   },
   "outputs": [],
   "source": [
    "i = Input(shape=input_shape)\n",
    "x = BatchNormalization()(i)\n",
    "\n",
    "x = Conv2D(32, kernel_size=(3, 3), activation='relu', kernel_initializer='he_normal', padding='same')(x)\n",
    "x = BatchNormalization()(x)\n",
    "\n",
    "x = Conv2D(32, kernel_size=(3, 3), activation='relu', kernel_initializer='he_normal', padding='same')(x)\n",
    "x = BatchNormalization()(x)\n",
    "x = MaxPooling2D()(x)\n",
    "\n",
    "x = Conv2D(32, kernel_size=(3, 3), activation='relu', kernel_initializer='he_normal', padding='same')(x)\n",
    "x = BatchNormalization()(x)\n",
    "\n",
    "x = Conv2D(32, kernel_size=(3, 3), activation='relu', kernel_initializer='he_normal', padding='same')(x)\n",
    "x = BatchNormalization()(x)\n",
    "x = MaxPooling2D()(x)\n",
    "\n",
    "x = Flatten()(x)\n",
    "x = Dense(128, activation='relu')(x)\n",
    "x = BatchNormalization()(x)\n",
    "x = Dropout(0.2)(x)\n",
    "\n",
    "x = Dense(128, activation='relu')(x)\n",
    "x = BatchNormalization()(x)\n",
    "x = Dropout(0.2)(x)\n",
    "\n",
    "x = Dense(10, activation='softmax')(x)\n",
    "\n",
    "model = Model(i, x)"
   ]
  },
  {
   "cell_type": "code",
   "execution_count": 8,
   "metadata": {
    "collapsed": true
   },
   "outputs": [],
   "source": [
    "model.compile(optimizer=keras.optimizers.Adam(), \n",
    "              loss=keras.losses.categorical_crossentropy, \n",
    "              metrics=['accuracy'])"
   ]
  },
  {
   "cell_type": "markdown",
   "metadata": {},
   "source": [
    "### train"
   ]
  },
  {
   "cell_type": "code",
   "execution_count": 9,
   "metadata": {},
   "outputs": [
    {
     "name": "stdout",
     "output_type": "stream",
     "text": [
      "Train on 54000 samples, validate on 6000 samples\n",
      "Epoch 1/12\n",
      "54000/54000 [==============================] - 23s - loss: 0.1570 - acc: 0.9520 - val_loss: 0.0669 - val_acc: 0.9797\n",
      "Epoch 2/12\n",
      "54000/54000 [==============================] - 22s - loss: 0.0481 - acc: 0.9855 - val_loss: 0.0457 - val_acc: 0.9872\n",
      "Epoch 3/12\n",
      "54000/54000 [==============================] - 22s - loss: 0.0375 - acc: 0.9879 - val_loss: 0.0405 - val_acc: 0.9878\n",
      "Epoch 4/12\n",
      "54000/54000 [==============================] - 22s - loss: 0.0313 - acc: 0.9901 - val_loss: 0.0421 - val_acc: 0.9868\n",
      "Epoch 5/12\n",
      "54000/54000 [==============================] - 22s - loss: 0.0238 - acc: 0.9928 - val_loss: 0.0457 - val_acc: 0.9868\n",
      "Epoch 6/12\n",
      "54000/54000 [==============================] - 22s - loss: 0.0217 - acc: 0.9928 - val_loss: 0.0337 - val_acc: 0.9898\n",
      "Epoch 7/12\n",
      "54000/54000 [==============================] - 22s - loss: 0.0179 - acc: 0.9942 - val_loss: 0.0413 - val_acc: 0.9873\n",
      "Epoch 8/12\n",
      "54000/54000 [==============================] - 22s - loss: 0.0152 - acc: 0.9952 - val_loss: 0.0395 - val_acc: 0.9895\n",
      "Epoch 9/12\n",
      "54000/54000 [==============================] - 22s - loss: 0.0166 - acc: 0.9944 - val_loss: 0.0411 - val_acc: 0.9892\n",
      "Epoch 10/12\n",
      "54000/54000 [==============================] - 22s - loss: 0.0148 - acc: 0.9952 - val_loss: 0.0405 - val_acc: 0.9897\n",
      "Epoch 11/12\n",
      "54000/54000 [==============================] - 22s - loss: 0.0117 - acc: 0.9959 - val_loss: 0.0422 - val_acc: 0.9885\n",
      "Epoch 12/12\n",
      "54000/54000 [==============================] - 22s - loss: 0.0105 - acc: 0.9964 - val_loss: 0.0505 - val_acc: 0.9890\n"
     ]
    },
    {
     "data": {
      "text/plain": [
       "<keras.callbacks.History at 0x7fda4d0b4fd0>"
      ]
     },
     "execution_count": 9,
     "metadata": {},
     "output_type": "execute_result"
    }
   ],
   "source": [
    "model.fit(X_train, y_train, \n",
    "          epochs=epochs, \n",
    "          validation_data=(X_val, y_val), \n",
    "          shuffle=True,\n",
    "          verbose=1,\n",
    "          batch_size=batch_size)"
   ]
  },
  {
   "cell_type": "markdown",
   "metadata": {},
   "source": [
    "### test"
   ]
  },
  {
   "cell_type": "code",
   "execution_count": 10,
   "metadata": {},
   "outputs": [
    {
     "data": {
      "text/plain": [
       "[0.03160200524291213, 0.99050000000000005]"
      ]
     },
     "execution_count": 10,
     "metadata": {},
     "output_type": "execute_result"
    }
   ],
   "source": [
    "model.evaluate(X_test, y_test, verbose=0)"
   ]
  },
  {
   "cell_type": "code",
   "execution_count": null,
   "metadata": {
    "collapsed": true
   },
   "outputs": [],
   "source": []
  }
 ],
 "metadata": {
  "kernelspec": {
   "display_name": "Python 3",
   "language": "python",
   "name": "python3"
  },
  "language_info": {
   "codemirror_mode": {
    "name": "ipython",
    "version": 3
   },
   "file_extension": ".py",
   "mimetype": "text/x-python",
   "name": "python",
   "nbconvert_exporter": "python",
   "pygments_lexer": "ipython3",
   "version": "3.6.1"
  }
 },
 "nbformat": 4,
 "nbformat_minor": 2
}
