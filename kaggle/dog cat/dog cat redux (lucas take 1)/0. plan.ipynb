{
 "cells": [
  {
   "cell_type": "markdown",
   "metadata": {},
   "source": [
    "# action plan\n",
    "\n",
    "1. preprocess data (keras [`ImageDataGenerator`](https://keras.io/preprocessing/image/#imagedatagenerator) in mind)\n",
    "  * download data\n",
    "  * split sample, training and validation dataset. \n",
    "  * create right directory hierarchy \n",
    "2. train model\n",
    "  * reuse vgg16\n",
    "  * fine tune model\n",
    "3. validate model\n",
    "  0. typical accuracy, precision, recall\n",
    "  1. A few correct labels at random\n",
    "  2. A few incorrect labels at random\n",
    "  3. The most correct labels of each class (ie those with highest probability that are correct)\n",
    "  4. The most incorrect labels of each class (ie those with highest probability that are incorrect)\n",
    "  5. The most uncertain labels (ie those with probability closest to 0.5).\n",
    "4. generate test result\n",
    "  * take care of over confident problem\n",
    "5. submit"
   ]
  },
  {
   "cell_type": "code",
   "execution_count": null,
   "metadata": {
    "collapsed": true
   },
   "outputs": [],
   "source": []
  }
 ],
 "metadata": {
  "anaconda-cloud": {},
  "kernelspec": {
   "display_name": "Python [conda env:py3]",
   "language": "python",
   "name": "conda-env-py3-py"
  },
  "language_info": {
   "codemirror_mode": {
    "name": "ipython",
    "version": 3
   },
   "file_extension": ".py",
   "mimetype": "text/x-python",
   "name": "python",
   "nbconvert_exporter": "python",
   "pygments_lexer": "ipython3",
   "version": "3.5.2"
  }
 },
 "nbformat": 4,
 "nbformat_minor": 2
}
