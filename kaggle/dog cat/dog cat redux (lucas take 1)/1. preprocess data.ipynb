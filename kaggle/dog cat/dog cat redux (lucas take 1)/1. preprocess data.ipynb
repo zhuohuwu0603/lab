{
 "cells": [
  {
   "cell_type": "code",
   "execution_count": 1,
   "metadata": {
    "collapsed": false
   },
   "outputs": [
    {
     "name": "stderr",
     "output_type": "stream",
     "text": [
      "Using Theano backend.\n"
     ]
    },
    {
     "name": "stdout",
     "output_type": "stream",
     "text": [
      "/home/ubuntu/develop/fastai-DL-course/deeplearning1/nbs\n",
      "/home/ubuntu/develop/fastai-DL-course/deeplearning1/nbs/data/redux\n"
     ]
    },
    {
     "name": "stderr",
     "output_type": "stream",
     "text": [
      "Using gpu device 0: Tesla K80 (CNMeM is disabled, cuDNN 5103)\n",
      "/home/ubuntu/anaconda2/envs/py3/lib/python3.5/site-packages/theano/sandbox/cuda/__init__.py:600: UserWarning: Your cuDNN version is more recent than the one Theano officially supports. If you see any problems, try updating Theano or downgrading cuDNN to version 5.\n",
      "  warnings.warn(warn)\n"
     ]
    }
   ],
   "source": [
    "import os\n",
    "from glob import glob\n",
    "from shutil import copyfile\n",
    "import numpy as np\n",
    "\n",
    "import luvgg16\n",
    "\n",
    "%load_ext autoreload\n",
    "%autoreload 2\n",
    "\n",
    "NB_HOME = os.getcwd()\n",
    "DATA_HOME = NB_HOME + '/data/redux'\n",
    "\n",
    "print(NB_HOME)\n",
    "print(DATA_HOME)"
   ]
  },
  {
   "cell_type": "markdown",
   "metadata": {},
   "source": [
    "### create directories"
   ]
  },
  {
   "cell_type": "raw",
   "metadata": {},
   "source": [
    "..\n",
    "/redux\n",
    "  /sample\n",
    "    /train\n",
    "    /validation\n",
    "    /test\n",
    "    /result\n",
    "  /train\n",
    "  /validation\n",
    "  /test\n",
    "    /unknown\n",
    "  /result"
   ]
  },
  {
   "cell_type": "raw",
   "metadata": {},
   "source": [
    "os.makedirs(DATA_HOME + '/sample/train', exist_ok=True)\n",
    "os.makedirs(DATA_HOME + '/sample/validation', exist_ok=True)\n",
    "os.makedirs(DATA_HOME + '/sample/result', exist_ok=True)"
   ]
  },
  {
   "cell_type": "raw",
   "metadata": {},
   "source": [
    "os.makedirs(DATA_HOME + '/validation', exist_ok=True)\n",
    "os.makedirs(DATA_HOME + '/result', exist_ok=True)\n",
    "os.makedirs(DATA_HOME + '/test/unknown', exist_ok=True)"
   ]
  },
  {
   "cell_type": "markdown",
   "metadata": {},
   "source": [
    "### carve out validation data"
   ]
  },
  {
   "cell_type": "raw",
   "metadata": {},
   "source": [
    "% cd $DATA_HOME/train\n",
    "all_training_files = glob('*.jpg')\n",
    "shuffle_files = np.random.permutation(all_training_files)\n",
    "len(shuffle_files)"
   ]
  },
  {
   "cell_type": "raw",
   "metadata": {},
   "source": [
    "# take 10% of all training data as validation data\n",
    "for i in range(2500):\n",
    "    os.rename(src=shuffle_files[i], dst=DATA_HOME+'/validation/'+shuffle_files[i])"
   ]
  },
  {
   "cell_type": "markdown",
   "metadata": {},
   "source": [
    "### prepare sample data"
   ]
  },
  {
   "cell_type": "raw",
   "metadata": {},
   "source": [
    "# 200 for sample train\n",
    "shuf = np.random.permutation(glob('*.jpg'))  # remaing training data pool\n",
    "\n",
    "for i in range(200):\n",
    "    copyfile(shuf[i], DATA_HOME+'/sample/train/'+shuf[i])"
   ]
  },
  {
   "cell_type": "raw",
   "metadata": {},
   "source": [
    "# 50 for sample validation\n",
    "shuf = np.random.permutation(glob('*.jpg'))  # remaing training data pool\n",
    "\n",
    "for i in range(50):\n",
    "    copyfile(shuf[i], DATA_HOME+'/sample/validation/'+shuf[i])"
   ]
  },
  {
   "cell_type": "markdown",
   "metadata": {},
   "source": [
    "### move image files into their respective catagorical directories"
   ]
  },
  {
   "cell_type": "raw",
   "metadata": {},
   "source": [
    "% cd $DATA_HOME/train\n",
    "% mkdir cats\n",
    "% mkdir dogs\n",
    "% mv cat.*.jpg cats/\n",
    "% mv dog.*.jpg dogs/"
   ]
  },
  {
   "cell_type": "raw",
   "metadata": {},
   "source": [
    "% cd $DATA_HOME/validation\n",
    "% mkdir cats\n",
    "% mkdir dogs\n",
    "% mv cat.*.jpg cats/\n",
    "% mv dog.*.jpg dogs/"
   ]
  },
  {
   "cell_type": "raw",
   "metadata": {},
   "source": [
    "% cd $DATA_HOME/sample/train\n",
    "% mkdir cats\n",
    "% mkdir dogs\n",
    "% mv cat.*.jpg cats/\n",
    "% mv dog.*.jpg dogs/\n",
    "\n",
    "% cd $DATA_HOME/sample/validation\n",
    "% mkdir cats\n",
    "% mkdir dogs\n",
    "% mv cat.*.jpg cats/\n",
    "% mv dog.*.jpg dogs/"
   ]
  },
  {
   "cell_type": "raw",
   "metadata": {},
   "source": [
    "% cd $DATA_HOME/test\n",
    "% mv *.jpg unknown/"
   ]
  },
  {
   "cell_type": "code",
   "execution_count": 13,
   "metadata": {
    "collapsed": false
   },
   "outputs": [
    {
     "name": "stdout",
     "output_type": "stream",
     "text": [
      "/home/ubuntu/develop/fastai-DL-course/deeplearning1/nbs\n"
     ]
    }
   ],
   "source": [
    "% cd $NB_HOME"
   ]
  }
 ],
 "metadata": {
  "anaconda-cloud": {},
  "kernelspec": {
   "display_name": "Python [conda env:py3]",
   "language": "python",
   "name": "conda-env-py3-py"
  },
  "language_info": {
   "codemirror_mode": {
    "name": "ipython",
    "version": 3
   },
   "file_extension": ".py",
   "mimetype": "text/x-python",
   "name": "python",
   "nbconvert_exporter": "python",
   "pygments_lexer": "ipython3",
   "version": "3.5.2"
  }
 },
 "nbformat": 4,
 "nbformat_minor": 2
}
