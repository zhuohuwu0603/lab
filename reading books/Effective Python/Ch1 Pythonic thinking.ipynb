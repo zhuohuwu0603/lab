{
 "cells": [
  {
   "cell_type": "markdown",
   "metadata": {},
   "source": [
    "### item 13: `try, except, else, finally`\n",
    "* `finally` usually is used for clean up of things happend.\n",
    "* `else`:\n",
    "    * reduce the amount of `try` section. Visually distinguish the success case from `try/except` blocks.\n",
    "    * this will happen after successul try block, before the clean up in `finally`"
   ]
  },
  {
   "cell_type": "code",
   "execution_count": 3,
   "metadata": {},
   "outputs": [
    {
     "name": "stdout",
     "output_type": "stream",
     "text": [
      "no such file!\n"
     ]
    }
   ],
   "source": [
    "try:\n",
    "    with open('orz.txt') as fp:\n",
    "        data = fp.read()\n",
    "except FileNotFoundError:\n",
    "    print('no such file!')\n",
    "else:\n",
    "    print(data)\n",
    "finally:\n",
    "    pass # nothing to clean up in this case"
   ]
  },
  {
   "cell_type": "code",
   "execution_count": null,
   "metadata": {
    "collapsed": true
   },
   "outputs": [],
   "source": []
  }
 ],
 "metadata": {
  "kernelspec": {
   "display_name": "Python 3",
   "language": "python",
   "name": "python3"
  },
  "language_info": {
   "codemirror_mode": {
    "name": "ipython",
    "version": 3
   },
   "file_extension": ".py",
   "mimetype": "text/x-python",
   "name": "python",
   "nbconvert_exporter": "python",
   "pygments_lexer": "ipython3",
   "version": "3.6.2"
  }
 },
 "nbformat": 4,
 "nbformat_minor": 2
}
