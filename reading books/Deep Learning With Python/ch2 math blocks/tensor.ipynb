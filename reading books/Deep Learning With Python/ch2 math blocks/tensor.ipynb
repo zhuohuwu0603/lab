{
 "cells": [
  {
   "cell_type": "code",
   "execution_count": 2,
   "metadata": {},
   "outputs": [
    {
     "name": "stderr",
     "output_type": "stream",
     "text": [
      "Using TensorFlow backend.\n"
     ]
    }
   ],
   "source": [
    "import numpy as np\n",
    "import torch\n",
    "import keras"
   ]
  },
  {
   "cell_type": "code",
   "execution_count": 3,
   "metadata": {},
   "outputs": [
    {
     "data": {
      "text/plain": [
       "array([[ 0.51051109,  0.04978253,  0.49462323],\n",
       "       [ 0.61465932,  0.52212892,  0.31673132],\n",
       "       [ 0.17771267,  0.1350039 ,  0.68796805]])"
      ]
     },
     "execution_count": 3,
     "metadata": {},
     "output_type": "execute_result"
    }
   ],
   "source": [
    "a = np.random.rand(3,3)\n",
    "a"
   ]
  },
  {
   "cell_type": "code",
   "execution_count": 4,
   "metadata": {},
   "outputs": [
    {
     "name": "stdout",
     "output_type": "stream",
     "text": [
      "\n",
      " 0.5105  0.0498  0.4946\n",
      " 0.6147  0.5221  0.3167\n",
      " 0.1777  0.1350  0.6880\n",
      "[torch.DoubleTensor of size 3x3]\n",
      "\n",
      "have 0 gpu at disposal\n"
     ]
    }
   ],
   "source": [
    "ta = torch.from_numpy(a)\n",
    "print(ta)\n",
    "\n",
    "print(f\"have {torch.cuda.device_count()} gpu at disposal\")\n",
    "if torch.cuda.is_available():\n",
    "    ta_cuda = ta.cuda(0)\n",
    "    print(ta_cuda)"
   ]
  },
  {
   "cell_type": "code",
   "execution_count": 5,
   "metadata": {},
   "outputs": [
    {
     "data": {
      "text/plain": [
       "array([[ 2.,  2.,  2.,  2.,  2.,  2.,  2.,  2.],\n",
       "       [ 2.,  2.,  2.,  2.,  2.,  2.,  2.,  2.],\n",
       "       [ 2.,  2.,  2.,  2.,  2.,  2.,  2.,  2.],\n",
       "       [ 2.,  2.,  2.,  2.,  2.,  2.,  2.,  2.]])"
      ]
     },
     "execution_count": 5,
     "metadata": {},
     "output_type": "execute_result"
    }
   ],
   "source": [
    "# broadcasting\n",
    "\n",
    "x = np.ones((4,8))\n",
    "y = np.ones((8))\n",
    "\n",
    "x + y"
   ]
  },
  {
   "cell_type": "code",
   "execution_count": 6,
   "metadata": {},
   "outputs": [
    {
     "data": {
      "text/plain": [
       "\n",
       "    2     2     2     2     2     2     2     2\n",
       "    2     2     2     2     2     2     2     2\n",
       "    2     2     2     2     2     2     2     2\n",
       "    2     2     2     2     2     2     2     2\n",
       "[torch.FloatTensor of size 4x8]"
      ]
     },
     "execution_count": 6,
     "metadata": {},
     "output_type": "execute_result"
    }
   ],
   "source": [
    "# torch doesn't have broadcasting for math ops for now (7/24/17)\n",
    "tx = torch.ones(4, 8)\n",
    "ty = torch.ones(8).expand(4, 8)\n",
    "\n",
    "torch.add(tx, ty)"
   ]
  },
  {
   "cell_type": "code",
   "execution_count": 7,
   "metadata": {},
   "outputs": [
    {
     "data": {
      "text/plain": [
       "array([[ 3.09787018,  3.41159834,  1.98060524,  3.27762718,  5.38463004],\n",
       "       [-0.93200488,  1.66253088,  3.2682052 , -1.11476733,  3.17116392],\n",
       "       [ 0.33271003,  1.83430538, -2.24394198,  1.22532734,  0.02538313]])"
      ]
     },
     "execution_count": 7,
     "metadata": {},
     "output_type": "execute_result"
    }
   ],
   "source": [
    "# dot\n",
    "x = np.random.randn(3,4)\n",
    "y = np.random.randn(4,5)\n",
    "x @ y"
   ]
  },
  {
   "cell_type": "code",
   "execution_count": 8,
   "metadata": {},
   "outputs": [
    {
     "data": {
      "text/plain": [
       "\n",
       " 3.0979  3.4116  1.9806  3.2776  5.3846\n",
       "-0.9320  1.6625  3.2682 -1.1148  3.1712\n",
       " 0.3327  1.8343 -2.2439  1.2253  0.0254\n",
       "[torch.DoubleTensor of size 3x5]"
      ]
     },
     "execution_count": 8,
     "metadata": {},
     "output_type": "execute_result"
    }
   ],
   "source": [
    "tx = torch.from_numpy(x)\n",
    "ty = torch.from_numpy(y)\n",
    "\n",
    "torch.mm(tx, ty)"
   ]
  },
  {
   "cell_type": "code",
   "execution_count": null,
   "metadata": {
    "collapsed": true
   },
   "outputs": [],
   "source": []
  }
 ],
 "metadata": {
  "kernelspec": {
   "display_name": "Python 3",
   "language": "python",
   "name": "python3"
  },
  "language_info": {
   "codemirror_mode": {
    "name": "ipython",
    "version": 3
   },
   "file_extension": ".py",
   "mimetype": "text/x-python",
   "name": "python",
   "nbconvert_exporter": "python",
   "pygments_lexer": "ipython3",
   "version": "3.6.1"
  }
 },
 "nbformat": 4,
 "nbformat_minor": 2
}
