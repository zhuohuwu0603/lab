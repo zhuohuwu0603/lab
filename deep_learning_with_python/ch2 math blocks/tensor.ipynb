{
 "cells": [
  {
   "cell_type": "code",
   "execution_count": 55,
   "metadata": {
    "collapsed": true
   },
   "outputs": [],
   "source": [
    "import numpy as np\n",
    "import torch\n",
    "import keras"
   ]
  },
  {
   "cell_type": "code",
   "execution_count": 56,
   "metadata": {},
   "outputs": [
    {
     "data": {
      "text/plain": [
       "array([[ 0.47336553,  0.50320283,  0.39860303],\n",
       "       [ 0.22527086,  0.49313325,  0.44585782],\n",
       "       [ 0.85780819,  0.7994456 ,  0.32699229]])"
      ]
     },
     "execution_count": 56,
     "metadata": {},
     "output_type": "execute_result"
    }
   ],
   "source": [
    "a = np.random.rand(3,3)\n",
    "a"
   ]
  },
  {
   "cell_type": "code",
   "execution_count": 57,
   "metadata": {},
   "outputs": [
    {
     "name": "stdout",
     "output_type": "stream",
     "text": [
      "\n",
      " 0.4734  0.5032  0.3986\n",
      " 0.2253  0.4931  0.4459\n",
      " 0.8578  0.7994  0.3270\n",
      "[torch.DoubleTensor of size 3x3]\n",
      "\n",
      "have 4 gpu at disposal\n",
      "\n",
      " 0.4734  0.5032  0.3986\n",
      " 0.2253  0.4931  0.4459\n",
      " 0.8578  0.7994  0.3270\n",
      "[torch.cuda.DoubleTensor of size 3x3 (GPU 0)]\n",
      "\n"
     ]
    }
   ],
   "source": [
    "ta = torch.from_numpy(a)\n",
    "print(ta)\n",
    "\n",
    "print(f\"have {torch.cuda.device_count()} gpu at disposal\")\n",
    "ta_cuda = ta.cuda(0)\n",
    "print(ta_cuda)"
   ]
  },
  {
   "cell_type": "code",
   "execution_count": 58,
   "metadata": {},
   "outputs": [
    {
     "data": {
      "text/plain": [
       "array([[ 2.,  2.,  2.,  2.,  2.,  2.,  2.,  2.],\n",
       "       [ 2.,  2.,  2.,  2.,  2.,  2.,  2.,  2.],\n",
       "       [ 2.,  2.,  2.,  2.,  2.,  2.,  2.,  2.],\n",
       "       [ 2.,  2.,  2.,  2.,  2.,  2.,  2.,  2.]])"
      ]
     },
     "execution_count": 58,
     "metadata": {},
     "output_type": "execute_result"
    }
   ],
   "source": [
    "# broadcasting\n",
    "\n",
    "x = np.ones((4,8))\n",
    "y = np.ones((8))\n",
    "\n",
    "x + y"
   ]
  },
  {
   "cell_type": "code",
   "execution_count": 59,
   "metadata": {},
   "outputs": [
    {
     "data": {
      "text/plain": [
       "\n",
       "    2     2     2     2     2     2     2     2\n",
       "    2     2     2     2     2     2     2     2\n",
       "    2     2     2     2     2     2     2     2\n",
       "    2     2     2     2     2     2     2     2\n",
       "[torch.FloatTensor of size 4x8]"
      ]
     },
     "execution_count": 59,
     "metadata": {},
     "output_type": "execute_result"
    }
   ],
   "source": [
    "# torch doesn't have broadcasting for math ops for now (7/24/17)\n",
    "tx = torch.ones(4, 8)\n",
    "ty = torch.ones(8).expand(4, 8)\n",
    "\n",
    "torch.add(tx, ty)"
   ]
  },
  {
   "cell_type": "code",
   "execution_count": 60,
   "metadata": {},
   "outputs": [
    {
     "data": {
      "text/plain": [
       "array([[-2.30958505,  0.58667046,  3.50649517, -0.23367141, -1.4949806 ],\n",
       "       [-1.62961009, -0.77711364,  1.22951595,  0.13200072,  0.03808037],\n",
       "       [ 0.85216718,  2.53779297,  2.31312098,  0.61052383,  0.35669706]])"
      ]
     },
     "execution_count": 60,
     "metadata": {},
     "output_type": "execute_result"
    }
   ],
   "source": [
    "# dot\n",
    "x = np.random.randn(3,4)\n",
    "y = np.random.randn(4,5)\n",
    "x @ y"
   ]
  },
  {
   "cell_type": "code",
   "execution_count": 61,
   "metadata": {},
   "outputs": [
    {
     "data": {
      "text/plain": [
       "\n",
       "-2.3096  0.5867  3.5065 -0.2337 -1.4950\n",
       "-1.6296 -0.7771  1.2295  0.1320  0.0381\n",
       " 0.8522  2.5378  2.3131  0.6105  0.3567\n",
       "[torch.DoubleTensor of size 3x5]"
      ]
     },
     "execution_count": 61,
     "metadata": {},
     "output_type": "execute_result"
    }
   ],
   "source": [
    "tx = torch.from_numpy(x)\n",
    "ty = torch.from_numpy(y)\n",
    "\n",
    "torch.mm(tx, ty)"
   ]
  },
  {
   "cell_type": "code",
   "execution_count": null,
   "metadata": {
    "collapsed": true
   },
   "outputs": [],
   "source": []
  }
 ],
 "metadata": {
  "kernelspec": {
   "display_name": "Python 3",
   "language": "python",
   "name": "python3"
  },
  "language_info": {
   "codemirror_mode": {
    "name": "ipython",
    "version": 3
   },
   "file_extension": ".py",
   "mimetype": "text/x-python",
   "name": "python",
   "nbconvert_exporter": "python",
   "pygments_lexer": "ipython3",
   "version": "3.6.1"
  }
 },
 "nbformat": 4,
 "nbformat_minor": 2
}
