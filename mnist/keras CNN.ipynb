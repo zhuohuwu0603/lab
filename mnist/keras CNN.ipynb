{
 "cells": [
  {
   "cell_type": "code",
   "execution_count": 15,
   "metadata": {},
   "outputs": [],
   "source": [
    "from keras.datasets import mnist\n",
    "\n",
    "import keras\n",
    "\n",
    "from keras.utils import to_categorical\n",
    "from keras.layers import Conv2D, MaxPooling2D\n",
    "from keras.layers import Flatten, Dense, Input, Dropout\n",
    "from keras.layers.normalization import BatchNormalization\n",
    "from keras.models import Model\n",
    "\n",
    "from sklearn.model_selection import train_test_split"
   ]
  },
  {
   "cell_type": "code",
   "execution_count": 16,
   "metadata": {
    "collapsed": true
   },
   "outputs": [],
   "source": [
    "(X_train, y_train), (X_test, y_test) = mnist.load_data()"
   ]
  },
  {
   "cell_type": "code",
   "execution_count": 17,
   "metadata": {
    "collapsed": true
   },
   "outputs": [],
   "source": [
    "X_train = X_train.reshape(X_train.shape[0], 28, 28, 1)\n",
    "X_test = X_test.reshape(X_test.shape[0], 28, 28, 1)\n",
    "\n",
    "y_train = to_categorical(y_train)\n",
    "y_test = to_categorical(y_test)"
   ]
  },
  {
   "cell_type": "code",
   "execution_count": 18,
   "metadata": {
    "collapsed": true
   },
   "outputs": [],
   "source": [
    "X_train, X_val, y_train, y_val = train_test_split(X_train, y_train, test_size=0.2, random_state=42)"
   ]
  },
  {
   "cell_type": "markdown",
   "metadata": {},
   "source": [
    "### build model"
   ]
  },
  {
   "cell_type": "code",
   "execution_count": 19,
   "metadata": {},
   "outputs": [],
   "source": [
    "i = Input(shape=(28, 28, 1))\n",
    "x = BatchNormalization()(i)\n",
    "\n",
    "x = Conv2D(32, kernel_size=(3, 3), activation='relu', kernel_initializer='he_normal', padding='same')(x)\n",
    "x = BatchNormalization()(x)\n",
    "\n",
    "x = Conv2D(32, kernel_size=(3, 3), activation='relu', kernel_initializer='he_normal', padding='same')(x)\n",
    "x = BatchNormalization()(x)\n",
    "x = MaxPooling2D()(x)\n",
    "\n",
    "x = Conv2D(32, kernel_size=(3, 3), activation='relu', kernel_initializer='he_normal', padding='same')(x)\n",
    "x = BatchNormalization()(x)\n",
    "\n",
    "x = Conv2D(32, kernel_size=(3, 3), activation='relu', kernel_initializer='he_normal', padding='same')(x)\n",
    "x = BatchNormalization()(x)\n",
    "x = MaxPooling2D()(x)\n",
    "\n",
    "x = Flatten()(x)\n",
    "x = Dense(128, activation='relu')(x)\n",
    "x = BatchNormalization()(x)\n",
    "x = Dropout(0.2)(x)\n",
    "\n",
    "x = Dense(128, activation='relu')(x)\n",
    "x = BatchNormalization()(x)\n",
    "x = Dropout(0.2)(x)\n",
    "\n",
    "x = Dense(10, activation='softmax')(x)\n",
    "\n",
    "model = Model(i, x)"
   ]
  },
  {
   "cell_type": "code",
   "execution_count": 20,
   "metadata": {},
   "outputs": [],
   "source": [
    "model.compile(optimizer=keras.optimizers.Adam(), \n",
    "              loss=keras.losses.categorical_crossentropy, \n",
    "              metrics=['accuracy'])"
   ]
  },
  {
   "cell_type": "markdown",
   "metadata": {},
   "source": [
    "### train"
   ]
  },
  {
   "cell_type": "code",
   "execution_count": 21,
   "metadata": {},
   "outputs": [
    {
     "name": "stdout",
     "output_type": "stream",
     "text": [
      "Train on 48000 samples, validate on 12000 samples\n",
      "Epoch 1/12\n",
      "48000/48000 [==============================] - 9s - loss: 0.1955 - acc: 0.9406 - val_loss: 0.0642 - val_acc: 0.9814\n",
      "Epoch 2/12\n",
      "48000/48000 [==============================] - 8s - loss: 0.0539 - acc: 0.9831 - val_loss: 0.0473 - val_acc: 0.9869\n",
      "Epoch 3/12\n",
      "48000/48000 [==============================] - 9s - loss: 0.0369 - acc: 0.9891 - val_loss: 0.0340 - val_acc: 0.9892\n",
      "Epoch 4/12\n",
      "48000/48000 [==============================] - 8s - loss: 0.0291 - acc: 0.9907 - val_loss: 0.0502 - val_acc: 0.9853\n",
      "Epoch 5/12\n",
      "48000/48000 [==============================] - 8s - loss: 0.0247 - acc: 0.9917 - val_loss: 0.0455 - val_acc: 0.9860\n",
      "Epoch 6/12\n",
      "48000/48000 [==============================] - 8s - loss: 0.0210 - acc: 0.9930 - val_loss: 0.0911 - val_acc: 0.9757\n",
      "Epoch 7/12\n",
      "48000/48000 [==============================] - 8s - loss: 0.0184 - acc: 0.9937 - val_loss: 0.0402 - val_acc: 0.9879\n",
      "Epoch 8/12\n",
      "48000/48000 [==============================] - 8s - loss: 0.0167 - acc: 0.9946 - val_loss: 0.0393 - val_acc: 0.9883\n",
      "Epoch 9/12\n",
      "48000/48000 [==============================] - 9s - loss: 0.0139 - acc: 0.9954 - val_loss: 0.0433 - val_acc: 0.9887\n",
      "Epoch 10/12\n",
      "48000/48000 [==============================] - 9s - loss: 0.0114 - acc: 0.9963 - val_loss: 0.0503 - val_acc: 0.9867\n",
      "Epoch 11/12\n",
      "48000/48000 [==============================] - 9s - loss: 0.0128 - acc: 0.9958 - val_loss: 0.0500 - val_acc: 0.9873\n",
      "Epoch 12/12\n",
      "48000/48000 [==============================] - 9s - loss: 0.0132 - acc: 0.9955 - val_loss: 0.0513 - val_acc: 0.9873\n"
     ]
    },
    {
     "data": {
      "text/plain": [
       "<keras.callbacks.History at 0x7f598fb17ef0>"
      ]
     },
     "execution_count": 21,
     "metadata": {},
     "output_type": "execute_result"
    }
   ],
   "source": [
    "model.fit(X_train, y_train, \n",
    "          epochs=12, \n",
    "          validation_data=(X_val, y_val), \n",
    "          shuffle=True,\n",
    "          verbose=1,\n",
    "          batch_size=128)"
   ]
  },
  {
   "cell_type": "markdown",
   "metadata": {},
   "source": [
    "### test"
   ]
  },
  {
   "cell_type": "code",
   "execution_count": 22,
   "metadata": {},
   "outputs": [
    {
     "data": {
      "text/plain": [
       "[0.037501840646677012, 0.98870000000000002]"
      ]
     },
     "execution_count": 22,
     "metadata": {},
     "output_type": "execute_result"
    }
   ],
   "source": [
    "model.evaluate(X_test, y_test, verbose=0)"
   ]
  },
  {
   "cell_type": "code",
   "execution_count": null,
   "metadata": {
    "collapsed": true
   },
   "outputs": [],
   "source": []
  }
 ],
 "metadata": {
  "kernelspec": {
   "display_name": "Python 3",
   "language": "python",
   "name": "python3"
  },
  "language_info": {
   "codemirror_mode": {
    "name": "ipython",
    "version": 3
   },
   "file_extension": ".py",
   "mimetype": "text/x-python",
   "name": "python",
   "nbconvert_exporter": "python",
   "pygments_lexer": "ipython3",
   "version": "3.6.1"
  }
 },
 "nbformat": 4,
 "nbformat_minor": 2
}
