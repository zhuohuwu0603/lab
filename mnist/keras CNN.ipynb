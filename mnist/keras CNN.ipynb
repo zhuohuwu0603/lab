{
 "cells": [
  {
   "cell_type": "code",
   "execution_count": 5,
   "metadata": {},
   "outputs": [
    {
     "name": "stderr",
     "output_type": "stream",
     "text": [
      "Using TensorFlow backend.\n"
     ]
    }
   ],
   "source": [
    "import keras\n",
    "\n",
    "from keras.datasets import mnist\n",
    "\n",
    "from keras.utils import to_categorical\n",
    "from keras.layers import Conv2D, MaxPooling2D\n",
    "from keras.layers import Flatten, Dense, Input, Dropout\n",
    "from keras.layers.normalization import BatchNormalization\n",
    "from keras.models import Model\n",
    "\n",
    "from sklearn.model_selection import train_test_split"
   ]
  },
  {
   "cell_type": "code",
   "execution_count": 6,
   "metadata": {},
   "outputs": [
    {
     "name": "stdout",
     "output_type": "stream",
     "text": [
      "Downloading data from https://s3.amazonaws.com/img-datasets/mnist.npz\n"
     ]
    }
   ],
   "source": [
    "(X_train, y_train), (X_test, y_test) = mnist.load_data()"
   ]
  },
  {
   "cell_type": "code",
   "execution_count": 7,
   "metadata": {
    "collapsed": true
   },
   "outputs": [],
   "source": [
    "X_train = X_train.reshape(X_train.shape[0], 28, 28, 1)\n",
    "X_test = X_test.reshape(X_test.shape[0], 28, 28, 1)\n",
    "\n",
    "y_train = to_categorical(y_train)\n",
    "y_test = to_categorical(y_test)"
   ]
  },
  {
   "cell_type": "code",
   "execution_count": 8,
   "metadata": {
    "collapsed": true
   },
   "outputs": [],
   "source": [
    "X_train, X_val, y_train, y_val = train_test_split(X_train, y_train, test_size=0.2, random_state=42)"
   ]
  },
  {
   "cell_type": "markdown",
   "metadata": {},
   "source": [
    "### build model"
   ]
  },
  {
   "cell_type": "code",
   "execution_count": 9,
   "metadata": {
    "collapsed": true
   },
   "outputs": [],
   "source": [
    "i = Input(shape=(28, 28, 1))\n",
    "x = BatchNormalization()(i)\n",
    "\n",
    "x = Conv2D(32, kernel_size=(3, 3), activation='relu', kernel_initializer='he_normal', padding='same')(x)\n",
    "x = BatchNormalization()(x)\n",
    "\n",
    "x = Conv2D(32, kernel_size=(3, 3), activation='relu', kernel_initializer='he_normal', padding='same')(x)\n",
    "x = BatchNormalization()(x)\n",
    "x = MaxPooling2D()(x)\n",
    "\n",
    "x = Conv2D(32, kernel_size=(3, 3), activation='relu', kernel_initializer='he_normal', padding='same')(x)\n",
    "x = BatchNormalization()(x)\n",
    "\n",
    "x = Conv2D(32, kernel_size=(3, 3), activation='relu', kernel_initializer='he_normal', padding='same')(x)\n",
    "x = BatchNormalization()(x)\n",
    "x = MaxPooling2D()(x)\n",
    "\n",
    "x = Flatten()(x)\n",
    "x = Dense(128, activation='relu')(x)\n",
    "x = BatchNormalization()(x)\n",
    "x = Dropout(0.2)(x)\n",
    "\n",
    "x = Dense(128, activation='relu')(x)\n",
    "x = BatchNormalization()(x)\n",
    "x = Dropout(0.2)(x)\n",
    "\n",
    "x = Dense(10, activation='softmax')(x)\n",
    "\n",
    "model = Model(i, x)"
   ]
  },
  {
   "cell_type": "code",
   "execution_count": 10,
   "metadata": {
    "collapsed": true
   },
   "outputs": [],
   "source": [
    "model.compile(optimizer=keras.optimizers.Adam(), \n",
    "              loss=keras.losses.categorical_crossentropy, \n",
    "              metrics=['accuracy'])"
   ]
  },
  {
   "cell_type": "markdown",
   "metadata": {},
   "source": [
    "### train"
   ]
  },
  {
   "cell_type": "code",
   "execution_count": 11,
   "metadata": {},
   "outputs": [
    {
     "name": "stdout",
     "output_type": "stream",
     "text": [
      "Train on 48000 samples, validate on 12000 samples\n",
      "Epoch 1/12\n",
      "48000/48000 [==============================] - 40s - loss: 0.1826 - acc: 0.9454 - val_loss: 0.0506 - val_acc: 0.9839\n",
      "Epoch 2/12\n",
      "48000/48000 [==============================] - 21s - loss: 0.0525 - acc: 0.9836 - val_loss: 0.0401 - val_acc: 0.9889\n",
      "Epoch 3/12\n",
      "48000/48000 [==============================] - 21s - loss: 0.0357 - acc: 0.9889 - val_loss: 0.0443 - val_acc: 0.9880\n",
      "Epoch 4/12\n",
      "48000/48000 [==============================] - 21s - loss: 0.0303 - acc: 0.9902 - val_loss: 0.0443 - val_acc: 0.9881\n",
      "Epoch 5/12\n",
      "48000/48000 [==============================] - 21s - loss: 0.0248 - acc: 0.9920 - val_loss: 0.0494 - val_acc: 0.9859\n",
      "Epoch 6/12\n",
      "48000/48000 [==============================] - 21s - loss: 0.0201 - acc: 0.9934 - val_loss: 0.0336 - val_acc: 0.9908\n",
      "Epoch 7/12\n",
      "48000/48000 [==============================] - 21s - loss: 0.0156 - acc: 0.9949 - val_loss: 0.0409 - val_acc: 0.9888\n",
      "Epoch 8/12\n",
      "48000/48000 [==============================] - 21s - loss: 0.0166 - acc: 0.9946 - val_loss: 0.0299 - val_acc: 0.9918\n",
      "Epoch 9/12\n",
      "48000/48000 [==============================] - 21s - loss: 0.0141 - acc: 0.9952 - val_loss: 0.0315 - val_acc: 0.9909\n",
      "Epoch 10/12\n",
      "48000/48000 [==============================] - 21s - loss: 0.0135 - acc: 0.9955 - val_loss: 0.0437 - val_acc: 0.9885\n",
      "Epoch 11/12\n",
      "48000/48000 [==============================] - 21s - loss: 0.0126 - acc: 0.9961 - val_loss: 0.0296 - val_acc: 0.9919\n",
      "Epoch 12/12\n",
      "48000/48000 [==============================] - 21s - loss: 0.0102 - acc: 0.9967 - val_loss: 0.0297 - val_acc: 0.9922\n"
     ]
    },
    {
     "data": {
      "text/plain": [
       "<keras.callbacks.History at 0x7f15b30efe80>"
      ]
     },
     "execution_count": 11,
     "metadata": {},
     "output_type": "execute_result"
    }
   ],
   "source": [
    "model.fit(X_train, y_train, \n",
    "          epochs=12, \n",
    "          validation_data=(X_val, y_val), \n",
    "          shuffle=True,\n",
    "          verbose=1,\n",
    "          batch_size=128)"
   ]
  },
  {
   "cell_type": "markdown",
   "metadata": {},
   "source": [
    "### test"
   ]
  },
  {
   "cell_type": "code",
   "execution_count": 12,
   "metadata": {},
   "outputs": [
    {
     "data": {
      "text/plain": [
       "[0.026891846783392247, 0.99209999999999998]"
      ]
     },
     "execution_count": 12,
     "metadata": {},
     "output_type": "execute_result"
    }
   ],
   "source": [
    "model.evaluate(X_test, y_test, verbose=0)"
   ]
  },
  {
   "cell_type": "code",
   "execution_count": null,
   "metadata": {
    "collapsed": true
   },
   "outputs": [],
   "source": []
  }
 ],
 "metadata": {
  "kernelspec": {
   "display_name": "Python 3",
   "language": "python",
   "name": "python3"
  },
  "language_info": {
   "codemirror_mode": {
    "name": "ipython",
    "version": 3
   },
   "file_extension": ".py",
   "mimetype": "text/x-python",
   "name": "python",
   "nbconvert_exporter": "python",
   "pygments_lexer": "ipython3",
   "version": "3.6.1"
  }
 },
 "nbformat": 4,
 "nbformat_minor": 2
}
