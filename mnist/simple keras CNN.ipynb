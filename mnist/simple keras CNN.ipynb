{
 "cells": [
  {
   "cell_type": "code",
   "execution_count": 36,
   "metadata": {
    "collapsed": false
   },
   "outputs": [],
   "source": [
    "from keras.datasets import mnist\n",
    "\n",
    "from keras.utils.np_utils import to_categorical\n",
    "from keras.layers import Convolution2D, MaxPooling2D, BatchNormalization, Flatten, Dense, Input, Dropout\n",
    "from keras.models import Model\n",
    "from keras.optimizers import Adam\n",
    "\n",
    "from sklearn.model_selection import train_test_split"
   ]
  },
  {
   "cell_type": "code",
   "execution_count": 13,
   "metadata": {
    "collapsed": false
   },
   "outputs": [],
   "source": [
    "(X_train, y_train), (X_test, y_test) = mnist.load_data()"
   ]
  },
  {
   "cell_type": "code",
   "execution_count": 14,
   "metadata": {
    "collapsed": true
   },
   "outputs": [],
   "source": [
    "X_train = X_train.reshape(X_train.shape[0], 28, 28, 1)\n",
    "X_test = X_test.reshape(X_test.shape[0], 28, 28, 1)\n",
    "\n",
    "y_train = to_categorical(y_train)\n",
    "y_test = to_categorical(y_test)"
   ]
  },
  {
   "cell_type": "markdown",
   "metadata": {},
   "source": [
    "### build model"
   ]
  },
  {
   "cell_type": "code",
   "execution_count": 46,
   "metadata": {
    "collapsed": true
   },
   "outputs": [],
   "source": [
    "i = Input(shape=(28, 28, 1))"
   ]
  },
  {
   "cell_type": "code",
   "execution_count": 47,
   "metadata": {
    "collapsed": false
   },
   "outputs": [],
   "source": [
    "x = BatchNormalization()(i)\n",
    "\n",
    "x = Convolution2D(32, 3, 3, activation='relu', init='he_normal', border_mode='same')(x)\n",
    "x = BatchNormalization()(x)\n",
    "\n",
    "x = Convolution2D(32, 3, 3, activation='relu', init='he_normal', border_mode='same')(x)\n",
    "x = BatchNormalization()(x)\n",
    "x = MaxPooling2D()(x)\n",
    "\n",
    "x = Convolution2D(32, 3, 3, activation='relu', init='he_normal', border_mode='same')(x)\n",
    "x = BatchNormalization()(x)\n",
    "\n",
    "x = Convolution2D(32, 3, 3, activation='relu', init='he_normal', border_mode='same')(x)\n",
    "x = BatchNormalization()(x)\n",
    "x = MaxPooling2D()(x)\n",
    "\n",
    "x = Flatten()(x)\n",
    "x = Dense(128, activation='relu')(x)\n",
    "x = BatchNormalization()(x)\n",
    "x = Dropout(0.2)(x)\n",
    "\n",
    "x = Dense(128, activation='relu')(x)\n",
    "x = BatchNormalization()(x)\n",
    "x = Dropout(0.2)(x)\n",
    "\n",
    "x = Dense(10, activation='softmax')(x)\n",
    "\n",
    "model = Model(i, x)"
   ]
  },
  {
   "cell_type": "code",
   "execution_count": 48,
   "metadata": {
    "collapsed": true
   },
   "outputs": [],
   "source": [
    "model.compile(optimizer=Adam(), loss='categorical_crossentropy', metrics=['accuracy'])"
   ]
  },
  {
   "cell_type": "markdown",
   "metadata": {},
   "source": [
    "### train"
   ]
  },
  {
   "cell_type": "code",
   "execution_count": 49,
   "metadata": {
    "collapsed": false
   },
   "outputs": [
    {
     "name": "stdout",
     "output_type": "stream",
     "text": [
      "Train on 60000 samples, validate on 12000 samples\n",
      "Epoch 1/15\n",
      "16s - loss: 0.1666 - acc: 0.9493 - val_loss: 0.0368 - val_acc: 0.9889\n",
      "Epoch 2/15\n",
      "14s - loss: 0.0507 - acc: 0.9848 - val_loss: 0.0220 - val_acc: 0.9933\n",
      "Epoch 3/15\n",
      "14s - loss: 0.0357 - acc: 0.9890 - val_loss: 0.0237 - val_acc: 0.9923\n",
      "Epoch 4/15\n",
      "14s - loss: 0.0271 - acc: 0.9914 - val_loss: 0.0141 - val_acc: 0.9961\n",
      "Epoch 5/15\n",
      "14s - loss: 0.0253 - acc: 0.9920 - val_loss: 0.0139 - val_acc: 0.9958\n",
      "Epoch 6/15\n",
      "14s - loss: 0.0192 - acc: 0.9942 - val_loss: 0.0119 - val_acc: 0.9962\n",
      "Epoch 7/15\n",
      "14s - loss: 0.0179 - acc: 0.9940 - val_loss: 0.0136 - val_acc: 0.9951\n",
      "Epoch 8/15\n",
      "13s - loss: 0.0166 - acc: 0.9943 - val_loss: 0.0092 - val_acc: 0.9971\n",
      "Epoch 9/15\n",
      "14s - loss: 0.0148 - acc: 0.9952 - val_loss: 0.0099 - val_acc: 0.9965\n",
      "Epoch 10/15\n",
      "14s - loss: 0.0106 - acc: 0.9968 - val_loss: 0.0116 - val_acc: 0.9954\n",
      "Epoch 11/15\n",
      "13s - loss: 0.0125 - acc: 0.9957 - val_loss: 0.0108 - val_acc: 0.9962\n",
      "Epoch 12/15\n",
      "13s - loss: 0.0113 - acc: 0.9965 - val_loss: 0.0084 - val_acc: 0.9970\n",
      "Epoch 13/15\n",
      "14s - loss: 0.0103 - acc: 0.9965 - val_loss: 0.0038 - val_acc: 0.9989\n",
      "Epoch 14/15\n",
      "13s - loss: 0.0071 - acc: 0.9976 - val_loss: 0.0039 - val_acc: 0.9988\n",
      "Epoch 15/15\n",
      "14s - loss: 0.0094 - acc: 0.9970 - val_loss: 0.0037 - val_acc: 0.9987\n"
     ]
    },
    {
     "data": {
      "text/plain": [
       "<keras.callbacks.History at 0x7fd51dc3c208>"
      ]
     },
     "execution_count": 49,
     "metadata": {},
     "output_type": "execute_result"
    }
   ],
   "source": [
    "model.fit(X_train, y_train, \n",
    "          nb_epoch=15, \n",
    "          validation_data=(X_val, y_val), \n",
    "          shuffle=True,\n",
    "          verbose=2,\n",
    "          batch_size=128)"
   ]
  },
  {
   "cell_type": "markdown",
   "metadata": {},
   "source": [
    "### test"
   ]
  },
  {
   "cell_type": "code",
   "execution_count": 50,
   "metadata": {
    "collapsed": false
   },
   "outputs": [
    {
     "data": {
      "text/plain": [
       "[0.031143223053665632, 0.99219999999999997]"
      ]
     },
     "execution_count": 50,
     "metadata": {},
     "output_type": "execute_result"
    }
   ],
   "source": [
    "model.evaluate(X_test, y_test, verbose=2)"
   ]
  },
  {
   "cell_type": "markdown",
   "metadata": {},
   "source": [
    "### save model\n",
    "* `[0.031143223053665632, 0.99219999999999997]`\n"
   ]
  },
  {
   "cell_type": "code",
   "execution_count": 51,
   "metadata": {
    "collapsed": true
   },
   "outputs": [],
   "source": [
    "model.save('best_mnist_model.h5')"
   ]
  },
  {
   "cell_type": "code",
   "execution_count": null,
   "metadata": {
    "collapsed": true
   },
   "outputs": [],
   "source": []
  }
 ],
 "metadata": {
  "kernelspec": {
   "display_name": "Python [conda env:py3]",
   "language": "python",
   "name": "conda-env-py3-py"
  },
  "language_info": {
   "codemirror_mode": {
    "name": "ipython",
    "version": 3
   },
   "file_extension": ".py",
   "mimetype": "text/x-python",
   "name": "python",
   "nbconvert_exporter": "python",
   "pygments_lexer": "ipython3",
   "version": "3.5.2"
  }
 },
 "nbformat": 4,
 "nbformat_minor": 2
}
