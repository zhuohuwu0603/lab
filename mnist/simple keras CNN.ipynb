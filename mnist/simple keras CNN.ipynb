{
 "cells": [
  {
   "cell_type": "code",
   "execution_count": 1,
   "metadata": {
    "collapsed": false
   },
   "outputs": [
    {
     "name": "stderr",
     "output_type": "stream",
     "text": [
      "Using TensorFlow backend.\n"
     ]
    }
   ],
   "source": [
    "import os\n",
    "os.environ['CUDA_VISIBLE_DEVICES'] = '7'\n",
    "\n",
    "from keras.datasets import mnist\n",
    "\n",
    "from keras.utils.np_utils import to_categorical\n",
    "from keras.layers import Convolution2D, MaxPooling2D, BatchNormalization, Flatten, Dense, Input, Dropout\n",
    "from keras.models import Model\n",
    "from keras.optimizers import Adam\n",
    "\n",
    "from sklearn.model_selection import train_test_split"
   ]
  },
  {
   "cell_type": "code",
   "execution_count": 2,
   "metadata": {
    "collapsed": false
   },
   "outputs": [],
   "source": [
    "(X_train, y_train), (X_test, y_test) = mnist.load_data()"
   ]
  },
  {
   "cell_type": "code",
   "execution_count": 3,
   "metadata": {
    "collapsed": true
   },
   "outputs": [],
   "source": [
    "X_train = X_train.reshape(X_train.shape[0], 28, 28, 1)\n",
    "X_test = X_test.reshape(X_test.shape[0], 28, 28, 1)\n",
    "\n",
    "y_train = to_categorical(y_train)\n",
    "y_test = to_categorical(y_test)"
   ]
  },
  {
   "cell_type": "code",
   "execution_count": 4,
   "metadata": {},
   "outputs": [],
   "source": [
    "X_train, X_val, y_train, y_val = train_test_split(X_train, y_train, test_size=0.2, random_state=42)"
   ]
  },
  {
   "cell_type": "markdown",
   "metadata": {},
   "source": [
    "### build model"
   ]
  },
  {
   "cell_type": "code",
   "execution_count": 5,
   "metadata": {
    "collapsed": false
   },
   "outputs": [],
   "source": [
    "i = Input(shape=(28, 28, 1))\n",
    "x = BatchNormalization()(i)\n",
    "\n",
    "x = Convolution2D(32, 3, 3, activation='relu', init='he_normal', border_mode='same')(x)\n",
    "x = BatchNormalization()(x)\n",
    "\n",
    "x = Convolution2D(32, 3, 3, activation='relu', init='he_normal', border_mode='same')(x)\n",
    "x = BatchNormalization()(x)\n",
    "x = MaxPooling2D()(x)\n",
    "\n",
    "x = Convolution2D(32, 3, 3, activation='relu', init='he_normal', border_mode='same')(x)\n",
    "x = BatchNormalization()(x)\n",
    "\n",
    "x = Convolution2D(32, 3, 3, activation='relu', init='he_normal', border_mode='same')(x)\n",
    "x = BatchNormalization()(x)\n",
    "x = MaxPooling2D()(x)\n",
    "\n",
    "x = Flatten()(x)\n",
    "x = Dense(128, activation='relu')(x)\n",
    "x = BatchNormalization()(x)\n",
    "x = Dropout(0.2)(x)\n",
    "\n",
    "x = Dense(128, activation='relu')(x)\n",
    "x = BatchNormalization()(x)\n",
    "x = Dropout(0.2)(x)\n",
    "\n",
    "x = Dense(10, activation='softmax')(x)\n",
    "\n",
    "model = Model(i, x)"
   ]
  },
  {
   "cell_type": "code",
   "execution_count": 6,
   "metadata": {
    "collapsed": true
   },
   "outputs": [],
   "source": [
    "model.compile(optimizer=Adam(), loss='categorical_crossentropy', metrics=['accuracy'])"
   ]
  },
  {
   "cell_type": "markdown",
   "metadata": {},
   "source": [
    "### train"
   ]
  },
  {
   "cell_type": "code",
   "execution_count": 7,
   "metadata": {
    "collapsed": false
   },
   "outputs": [
    {
     "name": "stdout",
     "output_type": "stream",
     "text": [
      "Train on 48000 samples, validate on 12000 samples\n",
      "Epoch 1/15\n",
      "17s - loss: 0.1849 - acc: 0.9442 - val_loss: 0.0554 - val_acc: 0.9832\n",
      "Epoch 2/15\n",
      "14s - loss: 0.0534 - acc: 0.9841 - val_loss: 0.0553 - val_acc: 0.9821\n",
      "Epoch 3/15\n",
      "14s - loss: 0.0380 - acc: 0.9885 - val_loss: 0.0350 - val_acc: 0.9897\n",
      "Epoch 4/15\n",
      "15s - loss: 0.0287 - acc: 0.9918 - val_loss: 0.0401 - val_acc: 0.9882\n",
      "Epoch 5/15\n",
      "15s - loss: 0.0252 - acc: 0.9920 - val_loss: 0.0455 - val_acc: 0.9856\n",
      "Epoch 6/15\n",
      "14s - loss: 0.0216 - acc: 0.9930 - val_loss: 0.0511 - val_acc: 0.9847\n",
      "Epoch 7/15\n",
      "14s - loss: 0.0182 - acc: 0.9940 - val_loss: 0.0329 - val_acc: 0.9901\n",
      "Epoch 8/15\n",
      "14s - loss: 0.0161 - acc: 0.9943 - val_loss: 0.0397 - val_acc: 0.9891\n",
      "Epoch 9/15\n",
      "14s - loss: 0.0149 - acc: 0.9953 - val_loss: 0.0451 - val_acc: 0.9878\n",
      "Epoch 10/15\n",
      "14s - loss: 0.0109 - acc: 0.9963 - val_loss: 0.0377 - val_acc: 0.9901\n",
      "Epoch 11/15\n",
      "15s - loss: 0.0122 - acc: 0.9957 - val_loss: 0.0433 - val_acc: 0.9888\n",
      "Epoch 12/15\n",
      "14s - loss: 0.0112 - acc: 0.9962 - val_loss: 0.0443 - val_acc: 0.9888\n",
      "Epoch 13/15\n",
      "15s - loss: 0.0079 - acc: 0.9975 - val_loss: 0.0418 - val_acc: 0.9907\n",
      "Epoch 14/15\n",
      "14s - loss: 0.0105 - acc: 0.9966 - val_loss: 0.0398 - val_acc: 0.9895\n",
      "Epoch 15/15\n",
      "14s - loss: 0.0106 - acc: 0.9968 - val_loss: 0.0421 - val_acc: 0.9905\n"
     ]
    },
    {
     "data": {
      "text/plain": [
       "<keras.callbacks.History at 0x7f58ca4c97b8>"
      ]
     },
     "execution_count": 7,
     "metadata": {},
     "output_type": "execute_result"
    }
   ],
   "source": [
    "model.fit(X_train, y_train, \n",
    "          nb_epoch=15, \n",
    "          validation_data=(X_val, y_val), \n",
    "          shuffle=True,\n",
    "          verbose=2,\n",
    "          batch_size=128)"
   ]
  },
  {
   "cell_type": "markdown",
   "metadata": {},
   "source": [
    "### test"
   ]
  },
  {
   "cell_type": "code",
   "execution_count": 50,
   "metadata": {
    "collapsed": false
   },
   "outputs": [
    {
     "data": {
      "text/plain": [
       "[0.031143223053665632, 0.99219999999999997]"
      ]
     },
     "execution_count": 50,
     "metadata": {},
     "output_type": "execute_result"
    }
   ],
   "source": [
    "model.evaluate(X_test, y_test, verbose=2)"
   ]
  },
  {
   "cell_type": "markdown",
   "metadata": {},
   "source": [
    "### save model\n",
    "* `[0.031143223053665632, 0.99219999999999997]`\n"
   ]
  },
  {
   "cell_type": "code",
   "execution_count": 51,
   "metadata": {
    "collapsed": true
   },
   "outputs": [],
   "source": [
    "model.save('mnist_model_gpu.h5')"
   ]
  },
  {
   "cell_type": "code",
   "execution_count": null,
   "metadata": {
    "collapsed": true
   },
   "outputs": [],
   "source": []
  }
 ],
 "metadata": {
  "kernelspec": {
   "display_name": "Python [conda env:py3]",
   "language": "python",
   "name": "conda-env-py3-py"
  },
  "language_info": {
   "codemirror_mode": {
    "name": "ipython",
    "version": 3
   },
   "file_extension": ".py",
   "mimetype": "text/x-python",
   "name": "python",
   "nbconvert_exporter": "python",
   "pygments_lexer": "ipython3",
   "version": "3.5.2"
  }
 },
 "nbformat": 4,
 "nbformat_minor": 2
}
